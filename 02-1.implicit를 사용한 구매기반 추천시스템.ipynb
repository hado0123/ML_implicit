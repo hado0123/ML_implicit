{
 "cells": [
  {
   "cell_type": "raw",
   "id": "fd3ed3e9-66f6-4b6c-b6e2-cfcef5738461",
   "metadata": {},
   "source": [
    "# 윈도우 -> Anaconda Prompt 실행 후 입력\n",
    "# conda로 설치시 좀 더 안정적이고 호환성 있는 설치가 가능합니다\n",
    "\n",
    "conda install conda-forge::implicit -y\n",
    "conda install scipy -y\n",
    "conda install pandas -y\n",
    "\n",
    "혹은\n",
    "\n",
    "# 주피터 노트북에서 실행\n",
    "\n",
    "pip install --upgrade implicit\n",
    "pip install --upgrade scipy\n",
    "pip install --upgrade pandas"
   ]
  },
  {
   "cell_type": "code",
   "execution_count": 13,
   "id": "c1091e9d-cb87-4602-9d49-7ae4c57a61b1",
   "metadata": {},
   "outputs": [
    {
     "name": "stdout",
     "output_type": "stream",
     "text": [
      "0.7.2\n",
      "1.16.0\n",
      "2.3.1\n"
     ]
    }
   ],
   "source": [
    "# 설치 후 버전확인\n",
    "\n",
    "import implicit\n",
    "import scipy\n",
    "import pandas\n",
    "\n",
    "print(implicit.__version__)\n",
    "print(scipy.__version__)\n",
    "print(pandas.__version__)"
   ]
  },
  {
   "cell_type": "code",
   "execution_count": 41,
   "id": "4b376acb-66bc-4a36-bb07-b5e5a35fd1d4",
   "metadata": {},
   "outputs": [],
   "source": [
    "import pandas as pd\n",
    "from sklearn.preprocessing import LabelEncoder\n",
    "from scipy.sparse import coo_matrix, csr_matrix\n",
    "from implicit.als import AlternatingLeastSquares"
   ]
  },
  {
   "cell_type": "code",
   "execution_count": 42,
   "id": "cf791306-0c8c-4db4-9bbe-14bc798ade6f",
   "metadata": {},
   "outputs": [],
   "source": [
    "# 데이터 준비\n",
    "data = pd.DataFrame({\n",
    "    'user_id': [0, 1, 1, 2, 3, 3],\n",
    "    'item_id': [101, 101, 102, 103, 102, 104],\n",
    "    'purchase_count': [1, 1, 2, 1, 1, 1]\n",
    "})"
   ]
  },
  {
   "cell_type": "code",
   "execution_count": 43,
   "id": "b7e3e6ad-009f-44a3-9ebd-80ae30869a55",
   "metadata": {},
   "outputs": [],
   "source": [
    "# 인코딩\n",
    "\n",
    "'''\n",
    "추천 시스템에서 user_id나 item_id는 반드시 \"0부터 시작하는 정수(index)\"여야 하기 때문에 라벨인코딩을 진행\n",
    "implicit 라이브러리에서 사용하는 희소행렬(sparse matrix)은\n",
    "행과 열을 정수 인덱스 기반으로 다루기 때문에, user_id, item_id가 문자나 큰 숫자(예: 101, 9999 등)면 안 됩니다.\n",
    "'''\n",
    "\n",
    "user_enc = LabelEncoder()\n",
    "item_enc = LabelEncoder()\n",
    "data['user_idx'] = user_enc.fit_transform(data['user_id']) # 'fit():고유값들을 숫자로 매핑'와 'transform():실제 값을 그 숫자 매핑'으로 전환 동시 진행\n",
    "data['item_idx'] = item_enc.fit_transform(data['item_id'])"
   ]
  },
  {
   "cell_type": "code",
   "execution_count": 44,
   "id": "4614aec9-b135-4266-9157-f84547c8d260",
   "metadata": {},
   "outputs": [
    {
     "data": {
      "text/html": [
       "<div>\n",
       "<style scoped>\n",
       "    .dataframe tbody tr th:only-of-type {\n",
       "        vertical-align: middle;\n",
       "    }\n",
       "\n",
       "    .dataframe tbody tr th {\n",
       "        vertical-align: top;\n",
       "    }\n",
       "\n",
       "    .dataframe thead th {\n",
       "        text-align: right;\n",
       "    }\n",
       "</style>\n",
       "<table border=\"1\" class=\"dataframe\">\n",
       "  <thead>\n",
       "    <tr style=\"text-align: right;\">\n",
       "      <th></th>\n",
       "      <th>user_id</th>\n",
       "      <th>item_id</th>\n",
       "      <th>purchase_count</th>\n",
       "      <th>user_idx</th>\n",
       "      <th>item_idx</th>\n",
       "    </tr>\n",
       "  </thead>\n",
       "  <tbody>\n",
       "    <tr>\n",
       "      <th>0</th>\n",
       "      <td>0</td>\n",
       "      <td>101</td>\n",
       "      <td>1</td>\n",
       "      <td>0</td>\n",
       "      <td>0</td>\n",
       "    </tr>\n",
       "    <tr>\n",
       "      <th>1</th>\n",
       "      <td>1</td>\n",
       "      <td>101</td>\n",
       "      <td>1</td>\n",
       "      <td>1</td>\n",
       "      <td>0</td>\n",
       "    </tr>\n",
       "    <tr>\n",
       "      <th>2</th>\n",
       "      <td>1</td>\n",
       "      <td>102</td>\n",
       "      <td>2</td>\n",
       "      <td>1</td>\n",
       "      <td>1</td>\n",
       "    </tr>\n",
       "    <tr>\n",
       "      <th>3</th>\n",
       "      <td>2</td>\n",
       "      <td>103</td>\n",
       "      <td>1</td>\n",
       "      <td>2</td>\n",
       "      <td>2</td>\n",
       "    </tr>\n",
       "    <tr>\n",
       "      <th>4</th>\n",
       "      <td>3</td>\n",
       "      <td>102</td>\n",
       "      <td>1</td>\n",
       "      <td>3</td>\n",
       "      <td>1</td>\n",
       "    </tr>\n",
       "    <tr>\n",
       "      <th>5</th>\n",
       "      <td>3</td>\n",
       "      <td>104</td>\n",
       "      <td>1</td>\n",
       "      <td>3</td>\n",
       "      <td>3</td>\n",
       "    </tr>\n",
       "  </tbody>\n",
       "</table>\n",
       "</div>"
      ],
      "text/plain": [
       "   user_id  item_id  purchase_count  user_idx  item_idx\n",
       "0        0      101               1         0         0\n",
       "1        1      101               1         1         0\n",
       "2        1      102               2         1         1\n",
       "3        2      103               1         2         2\n",
       "4        3      102               1         3         1\n",
       "5        3      104               1         3         3"
      ]
     },
     "execution_count": 44,
     "metadata": {},
     "output_type": "execute_result"
    }
   ],
   "source": [
    "# 데이터 확인\n",
    "data"
   ]
  },
  {
   "cell_type": "code",
   "execution_count": 45,
   "id": "ca9f25b3-af2b-4e91-b9d7-d7e0ce5e7f08",
   "metadata": {},
   "outputs": [
    {
     "name": "stdout",
     "output_type": "stream",
     "text": [
      "(4, 4)\n",
      "[[1 0 0 0]\n",
      " [1 2 0 0]\n",
      " [0 0 1 0]\n",
      " [0 1 0 1]]\n",
      "[[1 1 0 0]\n",
      " [0 2 0 1]\n",
      " [0 0 1 0]\n",
      " [0 0 0 1]]\n"
     ]
    }
   ],
   "source": [
    "# 희소행렬 (user x item)\n",
    "'''\n",
    "사용자-상품간의 구매 데이터를 행렬로 나타낸다.\n",
    "coo_matrix((데이터값, (행 인덱스, 열 인덱스)))\n",
    "\n",
    "즉, user_idx는 행이 되고 item_idx열이된다\n",
    "대부분의 값이 0이므로 메모리 절약을 위해 희소행렬(coo_matrix)사용 -> 0은 저장하지 않고 값이 있는 위치만 기록\n",
    "'''\n",
    "matrix = coo_matrix((data['purchase_count'], (data['user_idx'], data['item_idx'])))\n",
    "\n",
    "print(matrix.shape)  #  희소행렬 크기 확인 -> 예: (4, 4) → 4명의 유저, 4개의 아이템\n",
    "print(matrix.toarray()) # 희소행렬 구조 확인\n",
    "print(matrix.T.toarray()) # 행렬 전환(전치) 구조 확인(item_idx가 행, user_idx가 열)"
   ]
  },
  {
   "cell_type": "code",
   "execution_count": 46,
   "id": "89c973c5-eeb3-40f3-8dd5-df177fefa060",
   "metadata": {},
   "outputs": [],
   "source": [
    "# ALS 학습\n",
    "'''\n",
    "ALS (Alternating Least Squares)는 추천 시스템에서 많이 쓰이는 행렬 분해(Matrix Factorization) 알고리즘\n",
    "목표: 유저-아이템 간 선호 점수(predict score)를 예측\n",
    "\n",
    "factors=10\n",
    "사용자와 아이템의 잠재 요인(latent factor) 수(유저/아이템을 10차원 벡터로 표현)\n",
    "\n",
    "iterations=15\n",
    "ALS 학습 반복 횟수(15번 반복하면서 점점 정확해짐)\n",
    "'''\n",
    "model = AlternatingLeastSquares(factors=10, iterations=15)"
   ]
  },
  {
   "cell_type": "code",
   "execution_count": 47,
   "id": "f78c7558-ff3f-4da2-beea-21191ddb0b57",
   "metadata": {},
   "outputs": [
    {
     "data": {
      "application/vnd.jupyter.widget-view+json": {
       "model_id": "2cea5eca96af4d33b4547f8e1ced32f7",
       "version_major": 2,
       "version_minor": 0
      },
      "text/plain": [
       "  0%|          | 0/15 [00:00<?, ?it/s]"
      ]
     },
     "metadata": {},
     "output_type": "display_data"
    }
   ],
   "source": [
    "'''\n",
    "(user x item) 희소행렬 → 전치 → (item x user) 형태로 학습\n",
    "\n",
    "matrix.T: implicit에서는 아이템-유저 형태로 학습해야 함(행렬전환)\n",
    ".tocsr(): ALS 모델 학습은 CSR 형식을 요구함 (COO → CSR로 변환)\n",
    "\n",
    "*CSR란? \n",
    "행렬에 0값이 많아서 전부 다 저장하면 메모리 낭비\n",
    "예: 유저 10,000명 × 아이템 50,000개 → 대부분은 구매하지 않았음 (0)\n",
    "-> 따라서 0이 아닌 값들만 저장하는 방법이 필요. 그게 CSR\n",
    "\n",
    "원래 행렬\n",
    "[[1 0 0 0]\n",
    " [1 2 0 0]\n",
    " [0 0 1 0]\n",
    " [0 1 0 1]]\n",
    "\n",
    "CSR 형식은 이렇게 저장\n",
    "data    = [1, 1, 2, 1, 1, 1] # 실제 값\n",
    "indices = [0, 0, 1, 2, 1, 3] # 열 인덱스\n",
    "indptr  = [0, 1, 3, 4, 6] # 행마다 어디서 시작하는지 표시\n",
    "\n",
    "*참고\n",
    "indptr 자세히 풀이\n",
    "행 0 → data[0]부터 시작 → 1개 값 있음 → 끝: 1\n",
    "행 1 → data[1] ~ data[2] → 2개 → 끝: 3\n",
    "행 2 → data[3] → 1개 → 끝: 4\n",
    "행 3 → data[4] ~ data[5] → 2개 → 끝: 6\n",
    "\n",
    "그래서 indptr = [0, 1, 3, 4, 6] (행이 4개니까 원소가 5개)\n",
    "'''\n",
    "\n",
    "model.fit(matrix.T.tocsr())"
   ]
  },
  {
   "cell_type": "code",
   "execution_count": 48,
   "id": "85e438d4-90a1-449c-9011-4eac1d66fcec",
   "metadata": {},
   "outputs": [],
   "source": [
    "'''\n",
    "[[1 0 0 0]\n",
    " [1 2 0 0]\n",
    " [0 0 1 0]\n",
    " [0 1 0 1]]\n",
    "\n",
    "user_item_matrix = matrix.tocsr()\n",
    "→ 전체를 CSR 형식으로 변환\n",
    "\n",
    "user_item_matrix[3]\n",
    "→ [0 1 0 1] ← 3번 유저의 아이템 벡터\n",
    "\n",
    "user_vector = csr_matrix(...)\n",
    "→ 이걸 CSR 형식으로 감싸서 ALS 모델의 recommend()에 넣을 준비\n",
    "'''\n",
    "\n",
    "user_item_matrix = matrix.tocsr() # 전체 유저-아이템 행렬을 CSR 형식으로 변환\n",
    "user_idx = 3  # 추천 대상 유저 (3번 유저)\n",
    "\n",
    "user_vector = csr_matrix(user_item_matrix[user_idx]) #슬라이싱한 결과를 다시 CSR 형식으로 감쌈"
   ]
  },
  {
   "cell_type": "code",
   "execution_count": 49,
   "id": "7b53e8b4-bb73-4afd-b852-b6bd31613186",
   "metadata": {},
   "outputs": [
    {
     "name": "stdout",
     "output_type": "stream",
     "text": [
      "추천 결과: (array([2, 0, 1]), array([ 2.1257401e-03,  2.6409328e-04, -3.4028235e+38], dtype=float32))\n"
     ]
    }
   ],
   "source": [
    "# 추천 수행\n",
    "'''\n",
    "recommend(userid, user_items, N): 지정한 유저에게 상위 N개의 아이템을 추천\n",
    "\n",
    "-userid:\t추천할 대상 유저의 인덱스 (ex. 3)\n",
    "-user_items:\t이 유저의 아이템 벡터 (CSR 형식)\n",
    "-N:\t추천받을 아이템 개수\n",
    "'''\n",
    "recommended = model.recommend(userid=user_idx, user_items=user_vector, N=3)\n",
    "print(\"추천 결과:\", recommended)"
   ]
  },
  {
   "cell_type": "code",
   "execution_count": 50,
   "id": "cec7bf4f-8959-470f-a884-4a93e4ea7381",
   "metadata": {},
   "outputs": [
    {
     "name": "stdout",
     "output_type": "stream",
     "text": [
      "item_idx: 2, 점수: 0.0021\n",
      "item_idx: 0, 점수: 0.0003\n",
      "item_idx: 1, 점수: -340282346638528859811704183484516925440.0000\n"
     ]
    }
   ],
   "source": [
    "'''\n",
    "\n",
    "높은 양수: 강력한 추천 후보\n",
    "작은 양수 / 0: 연관성 거의 없음\n",
    "음수: 오히려 비선호 가능성, 추천에서 제외해도 무방\n",
    "\n",
    "'''\n",
    "\n",
    "item_indices, scores = recommended\n",
    "\n",
    "for item_idx, score in zip(item_indices, scores):\n",
    "    print(f\"item_idx: {item_idx}, 점수: {score:.4f}\")"
   ]
  },
  {
   "cell_type": "code",
   "execution_count": 51,
   "id": "b62e6d67-fb1a-484e-913e-c8742b1239ae",
   "metadata": {},
   "outputs": [
    {
     "name": "stdout",
     "output_type": "stream",
     "text": [
      "\n",
      "3번 유저의 추천 상품\n",
      "item_id: 103, 점수: 0.0021\n",
      "item_id: 101, 점수: 0.0003\n",
      "item_id: 102, 점수: -340282346638528859811704183484516925440.0000\n"
     ]
    }
   ],
   "source": [
    "print(f'\\n{user_idx}번 유저의 추천 상품')\n",
    "\n",
    "'''\n",
    "transform()\t원래 ID → 숫자 인덱스 (모델 학습용)\n",
    "inverse_transform()\t숫자 인덱스 → 원래 ID (결과 출력용)\n",
    "'''\n",
    "\n",
    "original_item_ids = item_enc.inverse_transform(item_indices) # 아이템 인덱스를 원래의 ID로 되돌릴 때 사용\n",
    "\n",
    "for item_id, score in zip(original_item_ids, scores):\n",
    "    print(f\"item_id: {item_id}, 점수: {score:.4f}\")"
   ]
  },
  {
   "cell_type": "markdown",
   "id": "85bc38a8-71b0-420f-a02b-efa991d7d923",
   "metadata": {},
   "source": [
    "### 기타 함수"
   ]
  },
  {
   "cell_type": "code",
   "execution_count": 52,
   "id": "ebc96f68-3569-4985-9944-61f35e56a587",
   "metadata": {},
   "outputs": [
    {
     "name": "stdout",
     "output_type": "stream",
     "text": [
      "item_idx: 5, 점수: 0.8200\n",
      "item_idx: 3, 점수: 0.6100\n",
      "item_idx: 1, 점수: 0.4500\n"
     ]
    }
   ],
   "source": [
    "# zip 함수\n",
    "# 여러 개의 반복 가능한 객체를 묶어서, 각 위치에 있는 원소들을 튜플로 만들어주는 함수\n",
    "'''\n",
    "사용: zip(list1, list2)\n",
    "결과: [(list1[0], list2[0]), (list1[1], list2[1]), ...]\n",
    "'''\n",
    "\n",
    "item_indices = [5, 3, 1]\n",
    "scores = [0.82, 0.61, 0.45]\n",
    "\n",
    "for item_idx, score in zip(item_indices, scores):\n",
    "    print(f\"item_idx: {item_idx}, 점수: {score:.4f}\")\n"
   ]
  },
  {
   "cell_type": "code",
   "execution_count": null,
   "id": "46ee2872-6806-41f2-a5b4-c3a88d57b32d",
   "metadata": {},
   "outputs": [],
   "source": []
  }
 ],
 "metadata": {
  "kernelspec": {
   "display_name": "Python 3 (ipykernel)",
   "language": "python",
   "name": "python3"
  },
  "language_info": {
   "codemirror_mode": {
    "name": "ipython",
    "version": 3
   },
   "file_extension": ".py",
   "mimetype": "text/x-python",
   "name": "python",
   "nbconvert_exporter": "python",
   "pygments_lexer": "ipython3",
   "version": "3.12.3"
  }
 },
 "nbformat": 4,
 "nbformat_minor": 5
}
