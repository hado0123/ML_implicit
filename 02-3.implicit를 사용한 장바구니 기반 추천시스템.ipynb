{
 "cells": [
  {
   "cell_type": "code",
   "execution_count": 1,
   "id": "83086e0c-676f-4784-bff0-400d944568e9",
   "metadata": {},
   "outputs": [
    {
     "name": "stderr",
     "output_type": "stream",
     "text": [
      "C:\\Users\\EZENIC-213T\\anaconda3\\Lib\\site-packages\\implicit\\cpu\\als.py:95: RuntimeWarning: Intel MKL BLAS is configured to use 8 threads. It is highly recommended to disable its internal threadpool by setting the environment variable 'MKL_NUM_THREADS=1' or by callng 'threadpoolctl.threadpool_limits(1, \"blas\")'. Having MKL use a threadpool can lead to severe performance issues\n",
      "  check_blas_config()\n"
     ]
    },
    {
     "data": {
      "application/vnd.jupyter.widget-view+json": {
       "model_id": "97f4c43c42504afc8952ba342e5e0d43",
       "version_major": 2,
       "version_minor": 0
      },
      "text/plain": [
       "  0%|          | 0/15 [00:00<?, ?it/s]"
      ]
     },
     "metadata": {},
     "output_type": "display_data"
    },
    {
     "name": "stdout",
     "output_type": "stream",
     "text": [
      "추천 결과: (array([1, 2, 3]), array([ 0.00430075,  0.00127119, -0.00413087], dtype=float32))\n",
      "item_idx: 1, 점수: 0.0043\n",
      "item_idx: 2, 점수: 0.0013\n",
      "item_idx: 3, 점수: -0.0041\n",
      "\n",
      "0번 유저의 추천 상품\n",
      "item_id: 102, 점수: 0.0043\n",
      "item_id: 103, 점수: 0.0013\n",
      "item_id: 104, 점수: -0.0041\n"
     ]
    }
   ],
   "source": [
    "import pandas as pd\n",
    "from sklearn.preprocessing import LabelEncoder\n",
    "from scipy.sparse import coo_matrix, csr_matrix\n",
    "from implicit.als import AlternatingLeastSquares\n",
    "\n",
    "# 데이터: 장바구니 담기 기준\n",
    "data = pd.DataFrame({\n",
    "    'user_id': [0, 1, 1, 2, 3, 3],\n",
    "    'item_id': [101, 101, 102, 103, 102, 104],\n",
    "    'cart_count': [1, 2, 1, 1, 3, 1]\n",
    "})\n",
    "\n",
    "# 인코딩\n",
    "user_enc = LabelEncoder()\n",
    "item_enc = LabelEncoder()\n",
    "data['user_idx'] = user_enc.fit_transform(data['user_id'])\n",
    "data['item_idx'] = item_enc.fit_transform(data['item_id'])\n",
    "\n",
    "# 희소행렬 (user x item)\n",
    "matrix = coo_matrix(\n",
    "    (data['cart_count'], (data['user_idx'], data['item_idx']))\n",
    ")\n",
    "\n",
    "# ALS 학습\n",
    "model = AlternatingLeastSquares(factors=10, iterations=15)\n",
    "model.fit(matrix.tocsr())\n",
    "\n",
    "# 추천 대상 유저\n",
    "user_item_matrix = matrix.tocsr()\n",
    "user_idx = 0\n",
    "user_vector = csr_matrix(user_item_matrix[user_idx])\n",
    "\n",
    "# 추천 수행\n",
    "recommended = model.recommend(userid=user_idx, user_items=user_vector, N=3)\n",
    "print(\"추천 결과:\", recommended)\n",
    "\n",
    "# 결과 출력\n",
    "item_indices, scores = recommended\n",
    "for item_idx, score in zip(item_indices, scores):\n",
    "    print(f\"item_idx: {item_idx}, 점수: {score:.4f}\")\n",
    "\n",
    "print(f'\\n{user_idx}번 유저의 추천 상품')\n",
    "original_item_ids = item_enc.inverse_transform(item_indices)\n",
    "for item_id, score in zip(original_item_ids, scores):\n",
    "    print(f\"item_id: {item_id}, 점수: {score:.4f}\")\n"
   ]
  }
 ],
 "metadata": {
  "kernelspec": {
   "display_name": "Python 3 (ipykernel)",
   "language": "python",
   "name": "python3"
  },
  "language_info": {
   "codemirror_mode": {
    "name": "ipython",
    "version": 3
   },
   "file_extension": ".py",
   "mimetype": "text/x-python",
   "name": "python",
   "nbconvert_exporter": "python",
   "pygments_lexer": "ipython3",
   "version": "3.12.3"
  }
 },
 "nbformat": 4,
 "nbformat_minor": 5
}
